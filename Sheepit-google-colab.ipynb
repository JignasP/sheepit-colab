{
  "nbformat": 4,
  "nbformat_minor": 0,
  "metadata": {
    "colab": {
      "name": "Sheepit - Raged Renderer",
      "provenance": [],
      "private_outputs": true,
      "collapsed_sections": []
    },
    "kernelspec": {
      "name": "python3",
      "display_name": "Python 3"
    },
    "language_info": {
      "name": "python"
    },
    "accelerator": "GPU"
  },
  "cells": [
    {
      "cell_type": "code",
      "metadata": {
        "id": "Jt9O1yfaVjNT"
      },
      "source": [
        "\n",
        "import os\n",
        "os.environ[\"LD_PRELOAD\"] = \"\"\n",
        "!apt update\n",
        "!apt remove libtcmalloc-minimal4\n",
        "!apt install libtcmalloc-minimal4\n",
        "os.environ[\"LD_PRELOAD\"] = \"/usr/lib/x86_64-linux-gnu/libtcmalloc_minimal.so.4.3.0\"\n",
        "!echo $LD_PRELOAD\n",
        "!apt update\n",
        "\n"
      ],
      "execution_count": null,
      "outputs": []
    },
    {
      "cell_type": "code",
      "source": [
        "#This is for installing Sheepit.\n",
        "\n",
        "!apt install libboost-all-dev\n",
        "!apt install libgl1-mesa-dev\n",
        "!apt install libglu1-mesa libsm-dev\n",
        "!sudo add-apt-repository ppa:thomas-schiex/blender -y\n",
        "!sudo apt-get update\n",
        "!wget http://sheepit-renderfarm.com/media/applet/client-latest.php -O sheepit.jar\n"
      ],
      "metadata": {
        "id": "IfXU3xMnIjxQ"
      },
      "execution_count": null,
      "outputs": []
    },
    {
      "cell_type": "code",
      "source": [
        "#Enter sheepit username and password in the below line\n",
        "!java -jar sheepit.jar -login   -password  -ui text -gpu CUDA_0 -compute-method GPU -rendertime 30 #--verbose "
      ],
      "metadata": {
        "id": "ksk8CJqkImVU"
      },
      "execution_count": null,
      "outputs": []
    }
  ]
}